{
 "cells": [
  {
   "cell_type": "code",
   "execution_count": 1,
   "id": "485baeeb",
   "metadata": {},
   "outputs": [],
   "source": [
    "import pandas as pd\n",
    "import warnings\n",
    "import numpy as np\n",
    "import string\n",
    "\n",
    "# Machine Learning\n",
    "from sklearn.feature_extraction.text import CountVectorizer, TfidfVectorizer\n",
    "from sklearn.model_selection import train_test_split\n",
    "from sklearn.metrics import accuracy_score, f1_score, classification_report\n",
    "from imblearn.over_sampling import SMOTE\n",
    "from sklearn.linear_model import LogisticRegression\n",
    "from sklearn.naive_bayes import MultinomialNB\n",
    "from sklearn.tree import DecisionTreeClassifier\n",
    "from sklearn.ensemble import RandomForestClassifier\n",
    "from xgboost import XGBClassifier\n",
    "\n",
    "#Dataviz\n",
    "import matplotlib.pyplot as plt\n",
    "import seaborn as sns\n",
    "\n",
    "# NLP\n",
    "import nltk\n",
    "from nltk.tokenize import word_tokenize\n",
    "from nltk.corpus import stopwords\n",
    "from nltk.stem import PorterStemmer\n",
    "from wordcloud import WordCloud, STOPWORDS\n",
    "import re\n",
    "\n",
    "warnings.filterwarnings(\"ignore\")"
   ]
  },
  {
   "cell_type": "code",
   "execution_count": 2,
   "id": "6e337494",
   "metadata": {},
   "outputs": [
    {
     "name": "stderr",
     "output_type": "stream",
     "text": [
      "[nltk_data] Downloading package punkt to /home/tristanlm/nltk_data...\n",
      "[nltk_data]   Package punkt is already up-to-date!\n"
     ]
    },
    {
     "data": {
      "text/plain": [
       "True"
      ]
     },
     "execution_count": 2,
     "metadata": {},
     "output_type": "execute_result"
    }
   ],
   "source": [
    "nltk.download('punkt')"
   ]
  },
  {
   "cell_type": "code",
   "execution_count": 3,
   "id": "c63e445e",
   "metadata": {},
   "outputs": [],
   "source": [
    "df = pd.read_csv('Data/df.csv')"
   ]
  },
  {
   "cell_type": "code",
   "execution_count": 4,
   "id": "1f0e5405",
   "metadata": {
    "scrolled": true
   },
   "outputs": [
    {
     "data": {
      "text/html": [
       "<div>\n",
       "<style scoped>\n",
       "    .dataframe tbody tr th:only-of-type {\n",
       "        vertical-align: middle;\n",
       "    }\n",
       "\n",
       "    .dataframe tbody tr th {\n",
       "        vertical-align: top;\n",
       "    }\n",
       "\n",
       "    .dataframe thead th {\n",
       "        text-align: right;\n",
       "    }\n",
       "</style>\n",
       "<table border=\"1\" class=\"dataframe\">\n",
       "  <thead>\n",
       "    <tr style=\"text-align: right;\">\n",
       "      <th></th>\n",
       "      <th>Unnamed: 0</th>\n",
       "      <th>Clothing ID</th>\n",
       "      <th>Age</th>\n",
       "      <th>Title</th>\n",
       "      <th>Review Text</th>\n",
       "      <th>Rating</th>\n",
       "      <th>Recommended IND</th>\n",
       "      <th>Positive Feedback Count</th>\n",
       "      <th>Division Name</th>\n",
       "      <th>Department Name</th>\n",
       "      <th>Class Name</th>\n",
       "    </tr>\n",
       "  </thead>\n",
       "  <tbody>\n",
       "    <tr>\n",
       "      <th>0</th>\n",
       "      <td>0</td>\n",
       "      <td>767</td>\n",
       "      <td>33</td>\n",
       "      <td>NaN</td>\n",
       "      <td>Absolutely wonderful - silky and sexy and comf...</td>\n",
       "      <td>4</td>\n",
       "      <td>1</td>\n",
       "      <td>0</td>\n",
       "      <td>Initmates</td>\n",
       "      <td>Intimate</td>\n",
       "      <td>Intimates</td>\n",
       "    </tr>\n",
       "    <tr>\n",
       "      <th>1</th>\n",
       "      <td>1</td>\n",
       "      <td>1080</td>\n",
       "      <td>34</td>\n",
       "      <td>NaN</td>\n",
       "      <td>Love this dress!  it's sooo pretty.  i happene...</td>\n",
       "      <td>5</td>\n",
       "      <td>1</td>\n",
       "      <td>4</td>\n",
       "      <td>General</td>\n",
       "      <td>Dresses</td>\n",
       "      <td>Dresses</td>\n",
       "    </tr>\n",
       "    <tr>\n",
       "      <th>2</th>\n",
       "      <td>2</td>\n",
       "      <td>1077</td>\n",
       "      <td>60</td>\n",
       "      <td>Some major design flaws</td>\n",
       "      <td>I had such high hopes for this dress and reall...</td>\n",
       "      <td>3</td>\n",
       "      <td>0</td>\n",
       "      <td>0</td>\n",
       "      <td>General</td>\n",
       "      <td>Dresses</td>\n",
       "      <td>Dresses</td>\n",
       "    </tr>\n",
       "    <tr>\n",
       "      <th>3</th>\n",
       "      <td>3</td>\n",
       "      <td>1049</td>\n",
       "      <td>50</td>\n",
       "      <td>My favorite buy!</td>\n",
       "      <td>I love, love, love this jumpsuit. it's fun, fl...</td>\n",
       "      <td>5</td>\n",
       "      <td>1</td>\n",
       "      <td>0</td>\n",
       "      <td>General Petite</td>\n",
       "      <td>Bottoms</td>\n",
       "      <td>Pants</td>\n",
       "    </tr>\n",
       "    <tr>\n",
       "      <th>4</th>\n",
       "      <td>4</td>\n",
       "      <td>847</td>\n",
       "      <td>47</td>\n",
       "      <td>Flattering shirt</td>\n",
       "      <td>This shirt is very flattering to all due to th...</td>\n",
       "      <td>5</td>\n",
       "      <td>1</td>\n",
       "      <td>6</td>\n",
       "      <td>General</td>\n",
       "      <td>Tops</td>\n",
       "      <td>Blouses</td>\n",
       "    </tr>\n",
       "    <tr>\n",
       "      <th>...</th>\n",
       "      <td>...</td>\n",
       "      <td>...</td>\n",
       "      <td>...</td>\n",
       "      <td>...</td>\n",
       "      <td>...</td>\n",
       "      <td>...</td>\n",
       "      <td>...</td>\n",
       "      <td>...</td>\n",
       "      <td>...</td>\n",
       "      <td>...</td>\n",
       "      <td>...</td>\n",
       "    </tr>\n",
       "    <tr>\n",
       "      <th>23481</th>\n",
       "      <td>23481</td>\n",
       "      <td>1104</td>\n",
       "      <td>34</td>\n",
       "      <td>Great dress for many occasions</td>\n",
       "      <td>I was very happy to snag this dress at such a ...</td>\n",
       "      <td>5</td>\n",
       "      <td>1</td>\n",
       "      <td>0</td>\n",
       "      <td>General Petite</td>\n",
       "      <td>Dresses</td>\n",
       "      <td>Dresses</td>\n",
       "    </tr>\n",
       "    <tr>\n",
       "      <th>23482</th>\n",
       "      <td>23482</td>\n",
       "      <td>862</td>\n",
       "      <td>48</td>\n",
       "      <td>Wish it was made of cotton</td>\n",
       "      <td>It reminds me of maternity clothes. soft, stre...</td>\n",
       "      <td>3</td>\n",
       "      <td>1</td>\n",
       "      <td>0</td>\n",
       "      <td>General Petite</td>\n",
       "      <td>Tops</td>\n",
       "      <td>Knits</td>\n",
       "    </tr>\n",
       "    <tr>\n",
       "      <th>23483</th>\n",
       "      <td>23483</td>\n",
       "      <td>1104</td>\n",
       "      <td>31</td>\n",
       "      <td>Cute, but see through</td>\n",
       "      <td>This fit well, but the top was very see throug...</td>\n",
       "      <td>3</td>\n",
       "      <td>0</td>\n",
       "      <td>1</td>\n",
       "      <td>General Petite</td>\n",
       "      <td>Dresses</td>\n",
       "      <td>Dresses</td>\n",
       "    </tr>\n",
       "    <tr>\n",
       "      <th>23484</th>\n",
       "      <td>23484</td>\n",
       "      <td>1084</td>\n",
       "      <td>28</td>\n",
       "      <td>Very cute dress, perfect for summer parties an...</td>\n",
       "      <td>I bought this dress for a wedding i have this ...</td>\n",
       "      <td>3</td>\n",
       "      <td>1</td>\n",
       "      <td>2</td>\n",
       "      <td>General</td>\n",
       "      <td>Dresses</td>\n",
       "      <td>Dresses</td>\n",
       "    </tr>\n",
       "    <tr>\n",
       "      <th>23485</th>\n",
       "      <td>23485</td>\n",
       "      <td>1104</td>\n",
       "      <td>52</td>\n",
       "      <td>Please make more like this one!</td>\n",
       "      <td>This dress in a lovely platinum is feminine an...</td>\n",
       "      <td>5</td>\n",
       "      <td>1</td>\n",
       "      <td>22</td>\n",
       "      <td>General Petite</td>\n",
       "      <td>Dresses</td>\n",
       "      <td>Dresses</td>\n",
       "    </tr>\n",
       "  </tbody>\n",
       "</table>\n",
       "<p>23486 rows × 11 columns</p>\n",
       "</div>"
      ],
      "text/plain": [
       "       Unnamed: 0  Clothing ID  Age  \\\n",
       "0               0          767   33   \n",
       "1               1         1080   34   \n",
       "2               2         1077   60   \n",
       "3               3         1049   50   \n",
       "4               4          847   47   \n",
       "...           ...          ...  ...   \n",
       "23481       23481         1104   34   \n",
       "23482       23482          862   48   \n",
       "23483       23483         1104   31   \n",
       "23484       23484         1084   28   \n",
       "23485       23485         1104   52   \n",
       "\n",
       "                                                   Title  \\\n",
       "0                                                    NaN   \n",
       "1                                                    NaN   \n",
       "2                                Some major design flaws   \n",
       "3                                       My favorite buy!   \n",
       "4                                       Flattering shirt   \n",
       "...                                                  ...   \n",
       "23481                     Great dress for many occasions   \n",
       "23482                         Wish it was made of cotton   \n",
       "23483                              Cute, but see through   \n",
       "23484  Very cute dress, perfect for summer parties an...   \n",
       "23485                    Please make more like this one!   \n",
       "\n",
       "                                             Review Text  Rating  \\\n",
       "0      Absolutely wonderful - silky and sexy and comf...       4   \n",
       "1      Love this dress!  it's sooo pretty.  i happene...       5   \n",
       "2      I had such high hopes for this dress and reall...       3   \n",
       "3      I love, love, love this jumpsuit. it's fun, fl...       5   \n",
       "4      This shirt is very flattering to all due to th...       5   \n",
       "...                                                  ...     ...   \n",
       "23481  I was very happy to snag this dress at such a ...       5   \n",
       "23482  It reminds me of maternity clothes. soft, stre...       3   \n",
       "23483  This fit well, but the top was very see throug...       3   \n",
       "23484  I bought this dress for a wedding i have this ...       3   \n",
       "23485  This dress in a lovely platinum is feminine an...       5   \n",
       "\n",
       "       Recommended IND  Positive Feedback Count   Division Name  \\\n",
       "0                    1                        0       Initmates   \n",
       "1                    1                        4         General   \n",
       "2                    0                        0         General   \n",
       "3                    1                        0  General Petite   \n",
       "4                    1                        6         General   \n",
       "...                ...                      ...             ...   \n",
       "23481                1                        0  General Petite   \n",
       "23482                1                        0  General Petite   \n",
       "23483                0                        1  General Petite   \n",
       "23484                1                        2         General   \n",
       "23485                1                       22  General Petite   \n",
       "\n",
       "      Department Name Class Name  \n",
       "0            Intimate  Intimates  \n",
       "1             Dresses    Dresses  \n",
       "2             Dresses    Dresses  \n",
       "3             Bottoms      Pants  \n",
       "4                Tops    Blouses  \n",
       "...               ...        ...  \n",
       "23481         Dresses    Dresses  \n",
       "23482            Tops      Knits  \n",
       "23483         Dresses    Dresses  \n",
       "23484         Dresses    Dresses  \n",
       "23485         Dresses    Dresses  \n",
       "\n",
       "[23486 rows x 11 columns]"
      ]
     },
     "execution_count": 4,
     "metadata": {},
     "output_type": "execute_result"
    }
   ],
   "source": [
    "df"
   ]
  },
  {
   "cell_type": "code",
   "execution_count": 5,
   "id": "bf5c1864",
   "metadata": {},
   "outputs": [],
   "source": [
    "df['Polarity_Rating'] = df['Rating'].apply(lambda x: 'Positive' if x > 2 else('Negative'))"
   ]
  },
  {
   "cell_type": "markdown",
   "id": "a5ae5667",
   "metadata": {},
   "source": [
    "On vérifie s'il n'y a pas des anomalies dans les reviews, i.e. des produits avec des avis négatifs mais recommandés, ou l'inverse"
   ]
  },
  {
   "cell_type": "code",
   "execution_count": 6,
   "id": "a9618d7d",
   "metadata": {},
   "outputs": [
    {
     "data": {
      "text/html": [
       "<div>\n",
       "<style scoped>\n",
       "    .dataframe tbody tr th:only-of-type {\n",
       "        vertical-align: middle;\n",
       "    }\n",
       "\n",
       "    .dataframe tbody tr th {\n",
       "        vertical-align: top;\n",
       "    }\n",
       "\n",
       "    .dataframe thead th {\n",
       "        text-align: right;\n",
       "    }\n",
       "</style>\n",
       "<table border=\"1\" class=\"dataframe\">\n",
       "  <thead>\n",
       "    <tr style=\"text-align: right;\">\n",
       "      <th></th>\n",
       "      <th>Unnamed: 0</th>\n",
       "      <th>Clothing ID</th>\n",
       "      <th>Age</th>\n",
       "      <th>Title</th>\n",
       "      <th>Review Text</th>\n",
       "      <th>Rating</th>\n",
       "      <th>Recommended IND</th>\n",
       "      <th>Positive Feedback Count</th>\n",
       "      <th>Division Name</th>\n",
       "      <th>Department Name</th>\n",
       "      <th>Class Name</th>\n",
       "      <th>Polarity_Rating</th>\n",
       "    </tr>\n",
       "  </thead>\n",
       "  <tbody>\n",
       "    <tr>\n",
       "      <th>2427</th>\n",
       "      <td>2427</td>\n",
       "      <td>939</td>\n",
       "      <td>39</td>\n",
       "      <td>NaN</td>\n",
       "      <td>Beautiful jacket and i got lots of compliments...</td>\n",
       "      <td>1</td>\n",
       "      <td>1</td>\n",
       "      <td>0</td>\n",
       "      <td>General</td>\n",
       "      <td>Tops</td>\n",
       "      <td>Sweaters</td>\n",
       "      <td>Negative</td>\n",
       "    </tr>\n",
       "    <tr>\n",
       "      <th>2872</th>\n",
       "      <td>2872</td>\n",
       "      <td>829</td>\n",
       "      <td>51</td>\n",
       "      <td>NaN</td>\n",
       "      <td>Very cute top. i went down a size because for ...</td>\n",
       "      <td>1</td>\n",
       "      <td>1</td>\n",
       "      <td>1</td>\n",
       "      <td>General Petite</td>\n",
       "      <td>Tops</td>\n",
       "      <td>Blouses</td>\n",
       "      <td>Negative</td>\n",
       "    </tr>\n",
       "    <tr>\n",
       "      <th>5570</th>\n",
       "      <td>5570</td>\n",
       "      <td>861</td>\n",
       "      <td>69</td>\n",
       "      <td>Great t</td>\n",
       "      <td>I love this t-shirt because it has the combina...</td>\n",
       "      <td>1</td>\n",
       "      <td>1</td>\n",
       "      <td>0</td>\n",
       "      <td>General</td>\n",
       "      <td>Tops</td>\n",
       "      <td>Knits</td>\n",
       "      <td>Negative</td>\n",
       "    </tr>\n",
       "    <tr>\n",
       "      <th>6216</th>\n",
       "      <td>6216</td>\n",
       "      <td>829</td>\n",
       "      <td>53</td>\n",
       "      <td>Traditional material in a new way</td>\n",
       "      <td>Love the movement of the blouse and how it fal...</td>\n",
       "      <td>1</td>\n",
       "      <td>1</td>\n",
       "      <td>0</td>\n",
       "      <td>General</td>\n",
       "      <td>Tops</td>\n",
       "      <td>Blouses</td>\n",
       "      <td>Negative</td>\n",
       "    </tr>\n",
       "    <tr>\n",
       "      <th>7740</th>\n",
       "      <td>7740</td>\n",
       "      <td>872</td>\n",
       "      <td>44</td>\n",
       "      <td>Odd neckline</td>\n",
       "      <td>I loved the color and design until i tried it ...</td>\n",
       "      <td>1</td>\n",
       "      <td>1</td>\n",
       "      <td>0</td>\n",
       "      <td>General</td>\n",
       "      <td>Tops</td>\n",
       "      <td>Knits</td>\n",
       "      <td>Negative</td>\n",
       "    </tr>\n",
       "    <tr>\n",
       "      <th>7850</th>\n",
       "      <td>7850</td>\n",
       "      <td>956</td>\n",
       "      <td>43</td>\n",
       "      <td>NaN</td>\n",
       "      <td>This is so close to perfect, but there's a sea...</td>\n",
       "      <td>1</td>\n",
       "      <td>1</td>\n",
       "      <td>1</td>\n",
       "      <td>General Petite</td>\n",
       "      <td>Jackets</td>\n",
       "      <td>Jackets</td>\n",
       "      <td>Negative</td>\n",
       "    </tr>\n",
       "    <tr>\n",
       "      <th>9877</th>\n",
       "      <td>9877</td>\n",
       "      <td>1084</td>\n",
       "      <td>58</td>\n",
       "      <td>NaN</td>\n",
       "      <td>I loved the dress, but just not dressy enough ...</td>\n",
       "      <td>1</td>\n",
       "      <td>1</td>\n",
       "      <td>5</td>\n",
       "      <td>General Petite</td>\n",
       "      <td>Dresses</td>\n",
       "      <td>Dresses</td>\n",
       "      <td>Negative</td>\n",
       "    </tr>\n",
       "    <tr>\n",
       "      <th>10517</th>\n",
       "      <td>10517</td>\n",
       "      <td>1110</td>\n",
       "      <td>44</td>\n",
       "      <td>Beautiful dress; so excited to wear it!!!</td>\n",
       "      <td>I saw this dress in the catalog and had to hav...</td>\n",
       "      <td>1</td>\n",
       "      <td>1</td>\n",
       "      <td>0</td>\n",
       "      <td>General</td>\n",
       "      <td>Dresses</td>\n",
       "      <td>Dresses</td>\n",
       "      <td>Negative</td>\n",
       "    </tr>\n",
       "    <tr>\n",
       "      <th>13607</th>\n",
       "      <td>13607</td>\n",
       "      <td>1075</td>\n",
       "      <td>48</td>\n",
       "      <td>Great dress</td>\n",
       "      <td>Such a great dress. fit is flattering. the sma...</td>\n",
       "      <td>1</td>\n",
       "      <td>1</td>\n",
       "      <td>0</td>\n",
       "      <td>General</td>\n",
       "      <td>Dresses</td>\n",
       "      <td>Dresses</td>\n",
       "      <td>Negative</td>\n",
       "    </tr>\n",
       "    <tr>\n",
       "      <th>16194</th>\n",
       "      <td>16194</td>\n",
       "      <td>1081</td>\n",
       "      <td>68</td>\n",
       "      <td>NaN</td>\n",
       "      <td>This is an extremely flattering dress. i could...</td>\n",
       "      <td>1</td>\n",
       "      <td>1</td>\n",
       "      <td>1</td>\n",
       "      <td>General Petite</td>\n",
       "      <td>Dresses</td>\n",
       "      <td>Dresses</td>\n",
       "      <td>Negative</td>\n",
       "    </tr>\n",
       "    <tr>\n",
       "      <th>16428</th>\n",
       "      <td>16428</td>\n",
       "      <td>867</td>\n",
       "      <td>56</td>\n",
       "      <td>Perfect for summer!</td>\n",
       "      <td>Love this top! it's pretty, unique and well ma...</td>\n",
       "      <td>1</td>\n",
       "      <td>1</td>\n",
       "      <td>12</td>\n",
       "      <td>General Petite</td>\n",
       "      <td>Tops</td>\n",
       "      <td>Knits</td>\n",
       "      <td>Negative</td>\n",
       "    </tr>\n",
       "    <tr>\n",
       "      <th>16995</th>\n",
       "      <td>16995</td>\n",
       "      <td>984</td>\n",
       "      <td>57</td>\n",
       "      <td>NaN</td>\n",
       "      <td>Love the jacket! so versatile! would probably ...</td>\n",
       "      <td>1</td>\n",
       "      <td>1</td>\n",
       "      <td>2</td>\n",
       "      <td>General</td>\n",
       "      <td>Jackets</td>\n",
       "      <td>Jackets</td>\n",
       "      <td>Negative</td>\n",
       "    </tr>\n",
       "    <tr>\n",
       "      <th>18676</th>\n",
       "      <td>18676</td>\n",
       "      <td>1104</td>\n",
       "      <td>55</td>\n",
       "      <td>NaN</td>\n",
       "      <td>This is a cute dress, but not for me. 1. i thi...</td>\n",
       "      <td>1</td>\n",
       "      <td>1</td>\n",
       "      <td>3</td>\n",
       "      <td>General</td>\n",
       "      <td>Dresses</td>\n",
       "      <td>Dresses</td>\n",
       "      <td>Negative</td>\n",
       "    </tr>\n",
       "    <tr>\n",
       "      <th>20649</th>\n",
       "      <td>20649</td>\n",
       "      <td>830</td>\n",
       "      <td>64</td>\n",
       "      <td>NaN</td>\n",
       "      <td>NaN</td>\n",
       "      <td>1</td>\n",
       "      <td>1</td>\n",
       "      <td>0</td>\n",
       "      <td>General</td>\n",
       "      <td>Tops</td>\n",
       "      <td>Blouses</td>\n",
       "      <td>Negative</td>\n",
       "    </tr>\n",
       "    <tr>\n",
       "      <th>22087</th>\n",
       "      <td>22087</td>\n",
       "      <td>850</td>\n",
       "      <td>54</td>\n",
       "      <td>NaN</td>\n",
       "      <td>Love this top! but unfortunately i returned it...</td>\n",
       "      <td>1</td>\n",
       "      <td>1</td>\n",
       "      <td>0</td>\n",
       "      <td>General</td>\n",
       "      <td>Tops</td>\n",
       "      <td>Blouses</td>\n",
       "      <td>Negative</td>\n",
       "    </tr>\n",
       "    <tr>\n",
       "      <th>22632</th>\n",
       "      <td>22632</td>\n",
       "      <td>455</td>\n",
       "      <td>34</td>\n",
       "      <td>This is a zippered hoodie</td>\n",
       "      <td>Just wanted to review so people know this hood...</td>\n",
       "      <td>1</td>\n",
       "      <td>1</td>\n",
       "      <td>7</td>\n",
       "      <td>Initmates</td>\n",
       "      <td>Intimate</td>\n",
       "      <td>Lounge</td>\n",
       "      <td>Negative</td>\n",
       "    </tr>\n",
       "  </tbody>\n",
       "</table>\n",
       "</div>"
      ],
      "text/plain": [
       "       Unnamed: 0  Clothing ID  Age  \\\n",
       "2427         2427          939   39   \n",
       "2872         2872          829   51   \n",
       "5570         5570          861   69   \n",
       "6216         6216          829   53   \n",
       "7740         7740          872   44   \n",
       "7850         7850          956   43   \n",
       "9877         9877         1084   58   \n",
       "10517       10517         1110   44   \n",
       "13607       13607         1075   48   \n",
       "16194       16194         1081   68   \n",
       "16428       16428          867   56   \n",
       "16995       16995          984   57   \n",
       "18676       18676         1104   55   \n",
       "20649       20649          830   64   \n",
       "22087       22087          850   54   \n",
       "22632       22632          455   34   \n",
       "\n",
       "                                           Title  \\\n",
       "2427                                         NaN   \n",
       "2872                                         NaN   \n",
       "5570                                     Great t   \n",
       "6216           Traditional material in a new way   \n",
       "7740                                Odd neckline   \n",
       "7850                                         NaN   \n",
       "9877                                         NaN   \n",
       "10517  Beautiful dress; so excited to wear it!!!   \n",
       "13607                                Great dress   \n",
       "16194                                        NaN   \n",
       "16428                        Perfect for summer!   \n",
       "16995                                        NaN   \n",
       "18676                                        NaN   \n",
       "20649                                        NaN   \n",
       "22087                                        NaN   \n",
       "22632                  This is a zippered hoodie   \n",
       "\n",
       "                                             Review Text  Rating  \\\n",
       "2427   Beautiful jacket and i got lots of compliments...       1   \n",
       "2872   Very cute top. i went down a size because for ...       1   \n",
       "5570   I love this t-shirt because it has the combina...       1   \n",
       "6216   Love the movement of the blouse and how it fal...       1   \n",
       "7740   I loved the color and design until i tried it ...       1   \n",
       "7850   This is so close to perfect, but there's a sea...       1   \n",
       "9877   I loved the dress, but just not dressy enough ...       1   \n",
       "10517  I saw this dress in the catalog and had to hav...       1   \n",
       "13607  Such a great dress. fit is flattering. the sma...       1   \n",
       "16194  This is an extremely flattering dress. i could...       1   \n",
       "16428  Love this top! it's pretty, unique and well ma...       1   \n",
       "16995  Love the jacket! so versatile! would probably ...       1   \n",
       "18676  This is a cute dress, but not for me. 1. i thi...       1   \n",
       "20649                                                NaN       1   \n",
       "22087  Love this top! but unfortunately i returned it...       1   \n",
       "22632  Just wanted to review so people know this hood...       1   \n",
       "\n",
       "       Recommended IND  Positive Feedback Count   Division Name  \\\n",
       "2427                 1                        0         General   \n",
       "2872                 1                        1  General Petite   \n",
       "5570                 1                        0         General   \n",
       "6216                 1                        0         General   \n",
       "7740                 1                        0         General   \n",
       "7850                 1                        1  General Petite   \n",
       "9877                 1                        5  General Petite   \n",
       "10517                1                        0         General   \n",
       "13607                1                        0         General   \n",
       "16194                1                        1  General Petite   \n",
       "16428                1                       12  General Petite   \n",
       "16995                1                        2         General   \n",
       "18676                1                        3         General   \n",
       "20649                1                        0         General   \n",
       "22087                1                        0         General   \n",
       "22632                1                        7       Initmates   \n",
       "\n",
       "      Department Name Class Name Polarity_Rating  \n",
       "2427             Tops   Sweaters        Negative  \n",
       "2872             Tops    Blouses        Negative  \n",
       "5570             Tops      Knits        Negative  \n",
       "6216             Tops    Blouses        Negative  \n",
       "7740             Tops      Knits        Negative  \n",
       "7850          Jackets    Jackets        Negative  \n",
       "9877          Dresses    Dresses        Negative  \n",
       "10517         Dresses    Dresses        Negative  \n",
       "13607         Dresses    Dresses        Negative  \n",
       "16194         Dresses    Dresses        Negative  \n",
       "16428            Tops      Knits        Negative  \n",
       "16995         Jackets    Jackets        Negative  \n",
       "18676         Dresses    Dresses        Negative  \n",
       "20649            Tops    Blouses        Negative  \n",
       "22087            Tops    Blouses        Negative  \n",
       "22632        Intimate     Lounge        Negative  "
      ]
     },
     "execution_count": 6,
     "metadata": {},
     "output_type": "execute_result"
    }
   ],
   "source": [
    "df.loc[(df['Recommended IND']==1) & (df['Rating']<2)]"
   ]
  },
  {
   "cell_type": "code",
   "execution_count": 7,
   "id": "e7742c6d",
   "metadata": {
    "scrolled": true
   },
   "outputs": [
    {
     "data": {
      "text/html": [
       "<div>\n",
       "<style scoped>\n",
       "    .dataframe tbody tr th:only-of-type {\n",
       "        vertical-align: middle;\n",
       "    }\n",
       "\n",
       "    .dataframe tbody tr th {\n",
       "        vertical-align: top;\n",
       "    }\n",
       "\n",
       "    .dataframe thead th {\n",
       "        text-align: right;\n",
       "    }\n",
       "</style>\n",
       "<table border=\"1\" class=\"dataframe\">\n",
       "  <thead>\n",
       "    <tr style=\"text-align: right;\">\n",
       "      <th></th>\n",
       "      <th>Unnamed: 0</th>\n",
       "      <th>Clothing ID</th>\n",
       "      <th>Age</th>\n",
       "      <th>Title</th>\n",
       "      <th>Review Text</th>\n",
       "      <th>Rating</th>\n",
       "      <th>Recommended IND</th>\n",
       "      <th>Positive Feedback Count</th>\n",
       "      <th>Division Name</th>\n",
       "      <th>Department Name</th>\n",
       "      <th>Class Name</th>\n",
       "      <th>Polarity_Rating</th>\n",
       "    </tr>\n",
       "  </thead>\n",
       "  <tbody>\n",
       "    <tr>\n",
       "      <th>1333</th>\n",
       "      <td>1333</td>\n",
       "      <td>836</td>\n",
       "      <td>25</td>\n",
       "      <td>Cute shirt, but not for me</td>\n",
       "      <td>The blue lace with the white top underneath is...</td>\n",
       "      <td>5</td>\n",
       "      <td>0</td>\n",
       "      <td>0</td>\n",
       "      <td>General</td>\n",
       "      <td>Tops</td>\n",
       "      <td>Blouses</td>\n",
       "      <td>Positive</td>\n",
       "    </tr>\n",
       "    <tr>\n",
       "      <th>3499</th>\n",
       "      <td>3499</td>\n",
       "      <td>872</td>\n",
       "      <td>52</td>\n",
       "      <td>Love this top!</td>\n",
       "      <td>This top is one of my retailer faves! it is so...</td>\n",
       "      <td>5</td>\n",
       "      <td>0</td>\n",
       "      <td>2</td>\n",
       "      <td>General</td>\n",
       "      <td>Tops</td>\n",
       "      <td>Knits</td>\n",
       "      <td>Positive</td>\n",
       "    </tr>\n",
       "    <tr>\n",
       "      <th>3863</th>\n",
       "      <td>3863</td>\n",
       "      <td>1081</td>\n",
       "      <td>53</td>\n",
       "      <td>Love this dress</td>\n",
       "      <td>I also have this dress in 3/4 sleeve, tegan tu...</td>\n",
       "      <td>5</td>\n",
       "      <td>0</td>\n",
       "      <td>0</td>\n",
       "      <td>General Petite</td>\n",
       "      <td>Dresses</td>\n",
       "      <td>Dresses</td>\n",
       "      <td>Positive</td>\n",
       "    </tr>\n",
       "    <tr>\n",
       "      <th>4409</th>\n",
       "      <td>4409</td>\n",
       "      <td>1094</td>\n",
       "      <td>53</td>\n",
       "      <td>Too small and short for my age.</td>\n",
       "      <td>Very pretty but too short for my age. looks we...</td>\n",
       "      <td>5</td>\n",
       "      <td>0</td>\n",
       "      <td>0</td>\n",
       "      <td>General</td>\n",
       "      <td>Dresses</td>\n",
       "      <td>Dresses</td>\n",
       "      <td>Positive</td>\n",
       "    </tr>\n",
       "    <tr>\n",
       "      <th>6532</th>\n",
       "      <td>6532</td>\n",
       "      <td>1095</td>\n",
       "      <td>33</td>\n",
       "      <td>Stunning</td>\n",
       "      <td>This jumpsuit runs large so i sized down perfe...</td>\n",
       "      <td>5</td>\n",
       "      <td>0</td>\n",
       "      <td>0</td>\n",
       "      <td>General</td>\n",
       "      <td>Dresses</td>\n",
       "      <td>Dresses</td>\n",
       "      <td>Positive</td>\n",
       "    </tr>\n",
       "    <tr>\n",
       "      <th>7443</th>\n",
       "      <td>7443</td>\n",
       "      <td>941</td>\n",
       "      <td>64</td>\n",
       "      <td>A great long swtr w/ patch pockets!</td>\n",
       "      <td>I ordered my usual sz s during the promo. arri...</td>\n",
       "      <td>5</td>\n",
       "      <td>0</td>\n",
       "      <td>6</td>\n",
       "      <td>General</td>\n",
       "      <td>Tops</td>\n",
       "      <td>Sweaters</td>\n",
       "      <td>Positive</td>\n",
       "    </tr>\n",
       "    <tr>\n",
       "      <th>9161</th>\n",
       "      <td>9161</td>\n",
       "      <td>1126</td>\n",
       "      <td>82</td>\n",
       "      <td>Houndstooth</td>\n",
       "      <td>This an absolutely beautiful quality stylish c...</td>\n",
       "      <td>5</td>\n",
       "      <td>0</td>\n",
       "      <td>0</td>\n",
       "      <td>General Petite</td>\n",
       "      <td>Jackets</td>\n",
       "      <td>Outerwear</td>\n",
       "      <td>Positive</td>\n",
       "    </tr>\n",
       "    <tr>\n",
       "      <th>9675</th>\n",
       "      <td>9675</td>\n",
       "      <td>865</td>\n",
       "      <td>33</td>\n",
       "      <td>Love it!</td>\n",
       "      <td>I didn't realize how much i would love this. w...</td>\n",
       "      <td>5</td>\n",
       "      <td>0</td>\n",
       "      <td>0</td>\n",
       "      <td>General</td>\n",
       "      <td>Tops</td>\n",
       "      <td>Knits</td>\n",
       "      <td>Positive</td>\n",
       "    </tr>\n",
       "    <tr>\n",
       "      <th>9685</th>\n",
       "      <td>9685</td>\n",
       "      <td>828</td>\n",
       "      <td>47</td>\n",
       "      <td>Comfy</td>\n",
       "      <td>This shirt is like the best worn in flannel wi...</td>\n",
       "      <td>5</td>\n",
       "      <td>0</td>\n",
       "      <td>1</td>\n",
       "      <td>General</td>\n",
       "      <td>Tops</td>\n",
       "      <td>Blouses</td>\n",
       "      <td>Positive</td>\n",
       "    </tr>\n",
       "    <tr>\n",
       "      <th>11636</th>\n",
       "      <td>11636</td>\n",
       "      <td>939</td>\n",
       "      <td>64</td>\n",
       "      <td>Beautiful</td>\n",
       "      <td>I've wondered abt this swtr but hesitated to o...</td>\n",
       "      <td>5</td>\n",
       "      <td>0</td>\n",
       "      <td>23</td>\n",
       "      <td>General</td>\n",
       "      <td>Tops</td>\n",
       "      <td>Sweaters</td>\n",
       "      <td>Positive</td>\n",
       "    </tr>\n",
       "    <tr>\n",
       "      <th>12032</th>\n",
       "      <td>12032</td>\n",
       "      <td>776</td>\n",
       "      <td>56</td>\n",
       "      <td>Really comfy socks</td>\n",
       "      <td>Yes,you need these, so comfortable - and wash ...</td>\n",
       "      <td>5</td>\n",
       "      <td>0</td>\n",
       "      <td>0</td>\n",
       "      <td>Initmates</td>\n",
       "      <td>Intimate</td>\n",
       "      <td>Legwear</td>\n",
       "      <td>Positive</td>\n",
       "    </tr>\n",
       "    <tr>\n",
       "      <th>13119</th>\n",
       "      <td>13119</td>\n",
       "      <td>975</td>\n",
       "      <td>30</td>\n",
       "      <td>Beautiful jacket and well made....</td>\n",
       "      <td>I bought this jacket in a regular and returned...</td>\n",
       "      <td>5</td>\n",
       "      <td>0</td>\n",
       "      <td>0</td>\n",
       "      <td>General Petite</td>\n",
       "      <td>Jackets</td>\n",
       "      <td>Jackets</td>\n",
       "      <td>Positive</td>\n",
       "    </tr>\n",
       "    <tr>\n",
       "      <th>13438</th>\n",
       "      <td>13438</td>\n",
       "      <td>1125</td>\n",
       "      <td>46</td>\n",
       "      <td>Gorgeous, but...</td>\n",
       "      <td>I bought a 2p when i should've bought a 0p. i ...</td>\n",
       "      <td>5</td>\n",
       "      <td>0</td>\n",
       "      <td>0</td>\n",
       "      <td>General Petite</td>\n",
       "      <td>Jackets</td>\n",
       "      <td>Outerwear</td>\n",
       "      <td>Positive</td>\n",
       "    </tr>\n",
       "    <tr>\n",
       "      <th>14919</th>\n",
       "      <td>14919</td>\n",
       "      <td>1020</td>\n",
       "      <td>25</td>\n",
       "      <td>Adorable--runs two sizes too small</td>\n",
       "      <td>I ordered my usual size; however when it arriv...</td>\n",
       "      <td>5</td>\n",
       "      <td>0</td>\n",
       "      <td>5</td>\n",
       "      <td>General</td>\n",
       "      <td>Bottoms</td>\n",
       "      <td>Skirts</td>\n",
       "      <td>Positive</td>\n",
       "    </tr>\n",
       "    <tr>\n",
       "      <th>15417</th>\n",
       "      <td>15417</td>\n",
       "      <td>1099</td>\n",
       "      <td>47</td>\n",
       "      <td>NaN</td>\n",
       "      <td>NaN</td>\n",
       "      <td>5</td>\n",
       "      <td>0</td>\n",
       "      <td>0</td>\n",
       "      <td>General Petite</td>\n",
       "      <td>Dresses</td>\n",
       "      <td>Dresses</td>\n",
       "      <td>Positive</td>\n",
       "    </tr>\n",
       "    <tr>\n",
       "      <th>15731</th>\n",
       "      <td>15731</td>\n",
       "      <td>895</td>\n",
       "      <td>67</td>\n",
       "      <td>Image does not do it justice</td>\n",
       "      <td>This is the cutest sweater. i bought it today ...</td>\n",
       "      <td>5</td>\n",
       "      <td>0</td>\n",
       "      <td>16</td>\n",
       "      <td>General</td>\n",
       "      <td>Tops</td>\n",
       "      <td>Fine gauge</td>\n",
       "      <td>Positive</td>\n",
       "    </tr>\n",
       "    <tr>\n",
       "      <th>16377</th>\n",
       "      <td>16377</td>\n",
       "      <td>1051</td>\n",
       "      <td>67</td>\n",
       "      <td>My view on sizing</td>\n",
       "      <td>Based on other reviews, i ordered these trouse...</td>\n",
       "      <td>5</td>\n",
       "      <td>0</td>\n",
       "      <td>0</td>\n",
       "      <td>General Petite</td>\n",
       "      <td>Bottoms</td>\n",
       "      <td>Pants</td>\n",
       "      <td>Positive</td>\n",
       "    </tr>\n",
       "    <tr>\n",
       "      <th>17968</th>\n",
       "      <td>17968</td>\n",
       "      <td>53</td>\n",
       "      <td>29</td>\n",
       "      <td>NaN</td>\n",
       "      <td>Very cute shorts. sadly, after one wash they b...</td>\n",
       "      <td>5</td>\n",
       "      <td>0</td>\n",
       "      <td>0</td>\n",
       "      <td>General</td>\n",
       "      <td>Bottoms</td>\n",
       "      <td>Shorts</td>\n",
       "      <td>Positive</td>\n",
       "    </tr>\n",
       "    <tr>\n",
       "      <th>18621</th>\n",
       "      <td>18621</td>\n",
       "      <td>867</td>\n",
       "      <td>53</td>\n",
       "      <td>NaN</td>\n",
       "      <td>NaN</td>\n",
       "      <td>5</td>\n",
       "      <td>0</td>\n",
       "      <td>0</td>\n",
       "      <td>General</td>\n",
       "      <td>Tops</td>\n",
       "      <td>Knits</td>\n",
       "      <td>Positive</td>\n",
       "    </tr>\n",
       "    <tr>\n",
       "      <th>20588</th>\n",
       "      <td>20588</td>\n",
       "      <td>1118</td>\n",
       "      <td>63</td>\n",
       "      <td>Truly beautiful!</td>\n",
       "      <td>This jacket is high quality leather and will b...</td>\n",
       "      <td>5</td>\n",
       "      <td>0</td>\n",
       "      <td>1</td>\n",
       "      <td>General</td>\n",
       "      <td>Jackets</td>\n",
       "      <td>Outerwear</td>\n",
       "      <td>Positive</td>\n",
       "    </tr>\n",
       "    <tr>\n",
       "      <th>21002</th>\n",
       "      <td>21002</td>\n",
       "      <td>1070</td>\n",
       "      <td>45</td>\n",
       "      <td>Flattering and comfy</td>\n",
       "      <td>I love these leggings! the material is a bit t...</td>\n",
       "      <td>5</td>\n",
       "      <td>0</td>\n",
       "      <td>1</td>\n",
       "      <td>General</td>\n",
       "      <td>Bottoms</td>\n",
       "      <td>Pants</td>\n",
       "      <td>Positive</td>\n",
       "    </tr>\n",
       "    <tr>\n",
       "      <th>21673</th>\n",
       "      <td>21673</td>\n",
       "      <td>1059</td>\n",
       "      <td>67</td>\n",
       "      <td>Chameleon color</td>\n",
       "      <td>Saying that these pants are comfortable would ...</td>\n",
       "      <td>5</td>\n",
       "      <td>0</td>\n",
       "      <td>0</td>\n",
       "      <td>General</td>\n",
       "      <td>Bottoms</td>\n",
       "      <td>Pants</td>\n",
       "      <td>Positive</td>\n",
       "    </tr>\n",
       "    <tr>\n",
       "      <th>21823</th>\n",
       "      <td>21823</td>\n",
       "      <td>931</td>\n",
       "      <td>58</td>\n",
       "      <td>Much longer than stated</td>\n",
       "      <td>This is an absolutely gorgeous sweater. the co...</td>\n",
       "      <td>5</td>\n",
       "      <td>0</td>\n",
       "      <td>1</td>\n",
       "      <td>General</td>\n",
       "      <td>Tops</td>\n",
       "      <td>Sweaters</td>\n",
       "      <td>Positive</td>\n",
       "    </tr>\n",
       "    <tr>\n",
       "      <th>21943</th>\n",
       "      <td>21943</td>\n",
       "      <td>832</td>\n",
       "      <td>64</td>\n",
       "      <td>Just love...</td>\n",
       "      <td>I usually wear a s. the reviews were helpful. ...</td>\n",
       "      <td>5</td>\n",
       "      <td>0</td>\n",
       "      <td>4</td>\n",
       "      <td>General Petite</td>\n",
       "      <td>Tops</td>\n",
       "      <td>Blouses</td>\n",
       "      <td>Positive</td>\n",
       "    </tr>\n",
       "    <tr>\n",
       "      <th>22043</th>\n",
       "      <td>22043</td>\n",
       "      <td>1077</td>\n",
       "      <td>53</td>\n",
       "      <td>NaN</td>\n",
       "      <td>This dress is absolutely lovely. i couldn't le...</td>\n",
       "      <td>5</td>\n",
       "      <td>0</td>\n",
       "      <td>8</td>\n",
       "      <td>General</td>\n",
       "      <td>Dresses</td>\n",
       "      <td>Dresses</td>\n",
       "      <td>Positive</td>\n",
       "    </tr>\n",
       "  </tbody>\n",
       "</table>\n",
       "</div>"
      ],
      "text/plain": [
       "       Unnamed: 0  Clothing ID  Age                                Title  \\\n",
       "1333         1333          836   25           Cute shirt, but not for me   \n",
       "3499         3499          872   52                       Love this top!   \n",
       "3863         3863         1081   53                      Love this dress   \n",
       "4409         4409         1094   53      Too small and short for my age.   \n",
       "6532         6532         1095   33                             Stunning   \n",
       "7443         7443          941   64  A great long swtr w/ patch pockets!   \n",
       "9161         9161         1126   82                          Houndstooth   \n",
       "9675         9675          865   33                             Love it!   \n",
       "9685         9685          828   47                                Comfy   \n",
       "11636       11636          939   64                            Beautiful   \n",
       "12032       12032          776   56                   Really comfy socks   \n",
       "13119       13119          975   30   Beautiful jacket and well made....   \n",
       "13438       13438         1125   46                     Gorgeous, but...   \n",
       "14919       14919         1020   25   Adorable--runs two sizes too small   \n",
       "15417       15417         1099   47                                  NaN   \n",
       "15731       15731          895   67         Image does not do it justice   \n",
       "16377       16377         1051   67                    My view on sizing   \n",
       "17968       17968           53   29                                  NaN   \n",
       "18621       18621          867   53                                  NaN   \n",
       "20588       20588         1118   63                     Truly beautiful!   \n",
       "21002       21002         1070   45                 Flattering and comfy   \n",
       "21673       21673         1059   67                      Chameleon color   \n",
       "21823       21823          931   58              Much longer than stated   \n",
       "21943       21943          832   64                         Just love...   \n",
       "22043       22043         1077   53                                  NaN   \n",
       "\n",
       "                                             Review Text  Rating  \\\n",
       "1333   The blue lace with the white top underneath is...       5   \n",
       "3499   This top is one of my retailer faves! it is so...       5   \n",
       "3863   I also have this dress in 3/4 sleeve, tegan tu...       5   \n",
       "4409   Very pretty but too short for my age. looks we...       5   \n",
       "6532   This jumpsuit runs large so i sized down perfe...       5   \n",
       "7443   I ordered my usual sz s during the promo. arri...       5   \n",
       "9161   This an absolutely beautiful quality stylish c...       5   \n",
       "9675   I didn't realize how much i would love this. w...       5   \n",
       "9685   This shirt is like the best worn in flannel wi...       5   \n",
       "11636  I've wondered abt this swtr but hesitated to o...       5   \n",
       "12032  Yes,you need these, so comfortable - and wash ...       5   \n",
       "13119  I bought this jacket in a regular and returned...       5   \n",
       "13438  I bought a 2p when i should've bought a 0p. i ...       5   \n",
       "14919  I ordered my usual size; however when it arriv...       5   \n",
       "15417                                                NaN       5   \n",
       "15731  This is the cutest sweater. i bought it today ...       5   \n",
       "16377  Based on other reviews, i ordered these trouse...       5   \n",
       "17968  Very cute shorts. sadly, after one wash they b...       5   \n",
       "18621                                                NaN       5   \n",
       "20588  This jacket is high quality leather and will b...       5   \n",
       "21002  I love these leggings! the material is a bit t...       5   \n",
       "21673  Saying that these pants are comfortable would ...       5   \n",
       "21823  This is an absolutely gorgeous sweater. the co...       5   \n",
       "21943  I usually wear a s. the reviews were helpful. ...       5   \n",
       "22043  This dress is absolutely lovely. i couldn't le...       5   \n",
       "\n",
       "       Recommended IND  Positive Feedback Count   Division Name  \\\n",
       "1333                 0                        0         General   \n",
       "3499                 0                        2         General   \n",
       "3863                 0                        0  General Petite   \n",
       "4409                 0                        0         General   \n",
       "6532                 0                        0         General   \n",
       "7443                 0                        6         General   \n",
       "9161                 0                        0  General Petite   \n",
       "9675                 0                        0         General   \n",
       "9685                 0                        1         General   \n",
       "11636                0                       23         General   \n",
       "12032                0                        0       Initmates   \n",
       "13119                0                        0  General Petite   \n",
       "13438                0                        0  General Petite   \n",
       "14919                0                        5         General   \n",
       "15417                0                        0  General Petite   \n",
       "15731                0                       16         General   \n",
       "16377                0                        0  General Petite   \n",
       "17968                0                        0         General   \n",
       "18621                0                        0         General   \n",
       "20588                0                        1         General   \n",
       "21002                0                        1         General   \n",
       "21673                0                        0         General   \n",
       "21823                0                        1         General   \n",
       "21943                0                        4  General Petite   \n",
       "22043                0                        8         General   \n",
       "\n",
       "      Department Name  Class Name Polarity_Rating  \n",
       "1333             Tops     Blouses        Positive  \n",
       "3499             Tops       Knits        Positive  \n",
       "3863          Dresses     Dresses        Positive  \n",
       "4409          Dresses     Dresses        Positive  \n",
       "6532          Dresses     Dresses        Positive  \n",
       "7443             Tops    Sweaters        Positive  \n",
       "9161          Jackets   Outerwear        Positive  \n",
       "9675             Tops       Knits        Positive  \n",
       "9685             Tops     Blouses        Positive  \n",
       "11636            Tops    Sweaters        Positive  \n",
       "12032        Intimate     Legwear        Positive  \n",
       "13119         Jackets     Jackets        Positive  \n",
       "13438         Jackets   Outerwear        Positive  \n",
       "14919         Bottoms      Skirts        Positive  \n",
       "15417         Dresses     Dresses        Positive  \n",
       "15731            Tops  Fine gauge        Positive  \n",
       "16377         Bottoms       Pants        Positive  \n",
       "17968         Bottoms      Shorts        Positive  \n",
       "18621            Tops       Knits        Positive  \n",
       "20588         Jackets   Outerwear        Positive  \n",
       "21002         Bottoms       Pants        Positive  \n",
       "21673         Bottoms       Pants        Positive  \n",
       "21823            Tops    Sweaters        Positive  \n",
       "21943            Tops     Blouses        Positive  \n",
       "22043         Dresses     Dresses        Positive  "
      ]
     },
     "execution_count": 7,
     "metadata": {},
     "output_type": "execute_result"
    }
   ],
   "source": [
    "df.loc[(df['Recommended IND']==0) & (df['Rating']>4)]"
   ]
  },
  {
   "cell_type": "markdown",
   "id": "0fd076da",
   "metadata": {},
   "source": [
    "On voit qu'effectivement ces avis sont incohérents. On décide de les retirer pour ne pas induire en erreur le modèle."
   ]
  },
  {
   "cell_type": "code",
   "execution_count": 8,
   "id": "4498387e",
   "metadata": {
    "scrolled": false
   },
   "outputs": [],
   "source": [
    "#On retire les anomalies\n",
    "df = df.loc[~((df['Recommended IND']==1) & (df['Rating']<2))]\n",
    "df = df.loc[~((df['Recommended IND']==0) & (df['Rating']>4))]"
   ]
  },
  {
   "cell_type": "code",
   "execution_count": 9,
   "id": "71d54199",
   "metadata": {},
   "outputs": [
    {
     "data": {
      "text/plain": [
       "(23445, 12)"
      ]
     },
     "execution_count": 9,
     "metadata": {},
     "output_type": "execute_result"
    }
   ],
   "source": [
    "df.shape"
   ]
  },
  {
   "cell_type": "code",
   "execution_count": 10,
   "id": "1ae53a1d",
   "metadata": {},
   "outputs": [],
   "source": [
    "df.drop(['Unnamed: 0','Clothing ID','Age','Title','Rating','Positive Feedback Count','Division Name','Department Name','Class Name','Recommended IND'],axis=1,inplace=True)"
   ]
  },
  {
   "cell_type": "code",
   "execution_count": 11,
   "id": "b60dd5bd",
   "metadata": {
    "scrolled": true
   },
   "outputs": [
    {
     "data": {
      "text/html": [
       "<div>\n",
       "<style scoped>\n",
       "    .dataframe tbody tr th:only-of-type {\n",
       "        vertical-align: middle;\n",
       "    }\n",
       "\n",
       "    .dataframe tbody tr th {\n",
       "        vertical-align: top;\n",
       "    }\n",
       "\n",
       "    .dataframe thead th {\n",
       "        text-align: right;\n",
       "    }\n",
       "</style>\n",
       "<table border=\"1\" class=\"dataframe\">\n",
       "  <thead>\n",
       "    <tr style=\"text-align: right;\">\n",
       "      <th></th>\n",
       "      <th>Review Text</th>\n",
       "      <th>Polarity_Rating</th>\n",
       "    </tr>\n",
       "  </thead>\n",
       "  <tbody>\n",
       "    <tr>\n",
       "      <th>0</th>\n",
       "      <td>Absolutely wonderful - silky and sexy and comf...</td>\n",
       "      <td>Positive</td>\n",
       "    </tr>\n",
       "    <tr>\n",
       "      <th>1</th>\n",
       "      <td>Love this dress!  it's sooo pretty.  i happene...</td>\n",
       "      <td>Positive</td>\n",
       "    </tr>\n",
       "    <tr>\n",
       "      <th>2</th>\n",
       "      <td>I had such high hopes for this dress and reall...</td>\n",
       "      <td>Positive</td>\n",
       "    </tr>\n",
       "    <tr>\n",
       "      <th>3</th>\n",
       "      <td>I love, love, love this jumpsuit. it's fun, fl...</td>\n",
       "      <td>Positive</td>\n",
       "    </tr>\n",
       "    <tr>\n",
       "      <th>4</th>\n",
       "      <td>This shirt is very flattering to all due to th...</td>\n",
       "      <td>Positive</td>\n",
       "    </tr>\n",
       "    <tr>\n",
       "      <th>...</th>\n",
       "      <td>...</td>\n",
       "      <td>...</td>\n",
       "    </tr>\n",
       "    <tr>\n",
       "      <th>23481</th>\n",
       "      <td>I was very happy to snag this dress at such a ...</td>\n",
       "      <td>Positive</td>\n",
       "    </tr>\n",
       "    <tr>\n",
       "      <th>23482</th>\n",
       "      <td>It reminds me of maternity clothes. soft, stre...</td>\n",
       "      <td>Positive</td>\n",
       "    </tr>\n",
       "    <tr>\n",
       "      <th>23483</th>\n",
       "      <td>This fit well, but the top was very see throug...</td>\n",
       "      <td>Positive</td>\n",
       "    </tr>\n",
       "    <tr>\n",
       "      <th>23484</th>\n",
       "      <td>I bought this dress for a wedding i have this ...</td>\n",
       "      <td>Positive</td>\n",
       "    </tr>\n",
       "    <tr>\n",
       "      <th>23485</th>\n",
       "      <td>This dress in a lovely platinum is feminine an...</td>\n",
       "      <td>Positive</td>\n",
       "    </tr>\n",
       "  </tbody>\n",
       "</table>\n",
       "<p>23445 rows × 2 columns</p>\n",
       "</div>"
      ],
      "text/plain": [
       "                                             Review Text Polarity_Rating\n",
       "0      Absolutely wonderful - silky and sexy and comf...        Positive\n",
       "1      Love this dress!  it's sooo pretty.  i happene...        Positive\n",
       "2      I had such high hopes for this dress and reall...        Positive\n",
       "3      I love, love, love this jumpsuit. it's fun, fl...        Positive\n",
       "4      This shirt is very flattering to all due to th...        Positive\n",
       "...                                                  ...             ...\n",
       "23481  I was very happy to snag this dress at such a ...        Positive\n",
       "23482  It reminds me of maternity clothes. soft, stre...        Positive\n",
       "23483  This fit well, but the top was very see throug...        Positive\n",
       "23484  I bought this dress for a wedding i have this ...        Positive\n",
       "23485  This dress in a lovely platinum is feminine an...        Positive\n",
       "\n",
       "[23445 rows x 2 columns]"
      ]
     },
     "execution_count": 11,
     "metadata": {},
     "output_type": "execute_result"
    }
   ],
   "source": [
    "df"
   ]
  },
  {
   "cell_type": "code",
   "execution_count": 12,
   "id": "defef22a",
   "metadata": {
    "scrolled": true
   },
   "outputs": [
    {
     "data": {
      "text/plain": [
       "Review Text        842\n",
       "Polarity_Rating      0\n",
       "dtype: int64"
      ]
     },
     "execution_count": 12,
     "metadata": {},
     "output_type": "execute_result"
    }
   ],
   "source": [
    "df.isna().sum()"
   ]
  },
  {
   "cell_type": "code",
   "execution_count": 13,
   "id": "4d05ccd8",
   "metadata": {
    "scrolled": true
   },
   "outputs": [
    {
     "data": {
      "text/plain": [
       "Review Text        3.59\n",
       "Polarity_Rating    0.00\n",
       "dtype: float64"
      ]
     },
     "execution_count": 13,
     "metadata": {},
     "output_type": "execute_result"
    }
   ],
   "source": [
    "df.isna().mean().round(4) * 100"
   ]
  },
  {
   "cell_type": "markdown",
   "id": "11e5b0a9",
   "metadata": {},
   "source": [
    "Il nous manque 842 reviews. Ces observations sont inutilisable, et comme il s'agit de texte, ce n'est pas imputable. On supprime donc les observations concernées"
   ]
  },
  {
   "cell_type": "code",
   "execution_count": 14,
   "id": "8341a1ed",
   "metadata": {},
   "outputs": [],
   "source": [
    "df.dropna(inplace = True)"
   ]
  },
  {
   "cell_type": "code",
   "execution_count": 15,
   "id": "f23f75a7",
   "metadata": {},
   "outputs": [
    {
     "data": {
      "text/plain": [
       "(22603, 2)"
      ]
     },
     "execution_count": 15,
     "metadata": {},
     "output_type": "execute_result"
    }
   ],
   "source": [
    "df.shape"
   ]
  },
  {
   "cell_type": "code",
   "execution_count": 16,
   "id": "dc0ca7dd",
   "metadata": {
    "scrolled": true
   },
   "outputs": [
    {
     "data": {
      "text/plain": [
       "<AxesSubplot:xlabel='Polarity_Rating', ylabel='count'>"
      ]
     },
     "execution_count": 16,
     "metadata": {},
     "output_type": "execute_result"
    },
    {
     "data": {
      "image/png": "[encoded data removed]",
      "text/plain": [
       "<Figure size 640x480 with 1 Axes>"
      ]
     },
     "metadata": {},
     "output_type": "display_data"
    }
   ],
   "source": [
    "sns.set_style('whitegrid')\n",
    "sns.countplot(x='Polarity_Rating',data=df, palette='summer')"
   ]
  },
  {
   "cell_type": "markdown",
   "id": "548dcb39",
   "metadata": {},
   "source": [
    "Nous avons un problème de balancing. Les avis négatifs et neutres sont sous-représentés. L'undersampling ne semble pas être une bonne approche car nous avons trop peu d'observations dans les classes sous-représentées. On penchera donc plutôt vers l'oversampling"
   ]
  },
  {
   "cell_type": "markdown",
   "id": "6703c6c4",
   "metadata": {},
   "source": [
    "## NLP"
   ]
  },
  {
   "cell_type": "code",
   "execution_count": 17,
   "id": "cd845c71",
   "metadata": {},
   "outputs": [],
   "source": [
    "# Plotting wordclouds for both negative and positive reviews\n",
    "stopwords = set(STOPWORDS)"
   ]
  },
  {
   "cell_type": "markdown",
   "id": "0f82eb4f",
   "metadata": {},
   "source": [
    "On crée de nouvelles features à partir du texte pour savoir s'il est possible de distinguer un avis positif d'un avis négatif"
   ]
  },
  {
   "cell_type": "code",
   "execution_count": 18,
   "id": "1e4b0b2b",
   "metadata": {
    "scrolled": true
   },
   "outputs": [
    {
     "data": {
      "text/html": [
       "<div>\n",
       "<style scoped>\n",
       "    .dataframe tbody tr th:only-of-type {\n",
       "        vertical-align: middle;\n",
       "    }\n",
       "\n",
       "    .dataframe tbody tr th {\n",
       "        vertical-align: top;\n",
       "    }\n",
       "\n",
       "    .dataframe thead th {\n",
       "        text-align: right;\n",
       "    }\n",
       "</style>\n",
       "<table border=\"1\" class=\"dataframe\">\n",
       "  <thead>\n",
       "    <tr style=\"text-align: right;\">\n",
       "      <th></th>\n",
       "      <th>Review Text</th>\n",
       "      <th>Polarity_Rating</th>\n",
       "      <th>length</th>\n",
       "      <th>num_exclamation_marks</th>\n",
       "      <th>num_question_marks</th>\n",
       "      <th>num_punctuations</th>\n",
       "      <th>num_words</th>\n",
       "    </tr>\n",
       "  </thead>\n",
       "  <tbody>\n",
       "    <tr>\n",
       "      <th>0</th>\n",
       "      <td>Absolutely wonderful - silky and sexy and comf...</td>\n",
       "      <td>Positive</td>\n",
       "      <td>53</td>\n",
       "      <td>0</td>\n",
       "      <td>0</td>\n",
       "      <td>0</td>\n",
       "      <td>8</td>\n",
       "    </tr>\n",
       "    <tr>\n",
       "      <th>1</th>\n",
       "      <td>Love this dress!  it's sooo pretty.  i happene...</td>\n",
       "      <td>Positive</td>\n",
       "      <td>303</td>\n",
       "      <td>1</td>\n",
       "      <td>0</td>\n",
       "      <td>6</td>\n",
       "      <td>62</td>\n",
       "    </tr>\n",
       "    <tr>\n",
       "      <th>2</th>\n",
       "      <td>I had such high hopes for this dress and reall...</td>\n",
       "      <td>Positive</td>\n",
       "      <td>500</td>\n",
       "      <td>1</td>\n",
       "      <td>0</td>\n",
       "      <td>8</td>\n",
       "      <td>98</td>\n",
       "    </tr>\n",
       "    <tr>\n",
       "      <th>3</th>\n",
       "      <td>I love, love, love this jumpsuit. it's fun, fl...</td>\n",
       "      <td>Positive</td>\n",
       "      <td>124</td>\n",
       "      <td>2</td>\n",
       "      <td>0</td>\n",
       "      <td>6</td>\n",
       "      <td>22</td>\n",
       "    </tr>\n",
       "    <tr>\n",
       "      <th>4</th>\n",
       "      <td>This shirt is very flattering to all due to th...</td>\n",
       "      <td>Positive</td>\n",
       "      <td>192</td>\n",
       "      <td>3</td>\n",
       "      <td>0</td>\n",
       "      <td>2</td>\n",
       "      <td>36</td>\n",
       "    </tr>\n",
       "  </tbody>\n",
       "</table>\n",
       "</div>"
      ],
      "text/plain": [
       "                                         Review Text Polarity_Rating  length  \\\n",
       "0  Absolutely wonderful - silky and sexy and comf...        Positive      53   \n",
       "1  Love this dress!  it's sooo pretty.  i happene...        Positive     303   \n",
       "2  I had such high hopes for this dress and reall...        Positive     500   \n",
       "3  I love, love, love this jumpsuit. it's fun, fl...        Positive     124   \n",
       "4  This shirt is very flattering to all due to th...        Positive     192   \n",
       "\n",
       "   num_exclamation_marks  num_question_marks  num_punctuations  num_words  \n",
       "0                      0                   0                 0          8  \n",
       "1                      1                   0                 6         62  \n",
       "2                      1                   0                 8         98  \n",
       "3                      2                   0                 6         22  \n",
       "4                      3                   0                 2         36  "
      ]
     },
     "execution_count": 18,
     "metadata": {},
     "output_type": "execute_result"
    }
   ],
   "source": [
    "df_fe = df.copy()\n",
    "df_fe['length'] = df_fe['Review Text'].str.len()\n",
    "df_fe['num_exclamation_marks'] = df_fe['Review Text'].str.count('\\!')\n",
    "df_fe['num_question_marks'] = df_fe['Review Text'].str.count('\\?')\n",
    "df_fe['num_punctuations'] = df_fe['Review Text'].str.count('[.,:;]')\n",
    "df_fe['num_question_marks'] = df_fe['Review Text'].str.count('[*&$%]')\n",
    "df_fe['num_words'] = df_fe['Review Text'].apply(lambda x: len(x.split()))\n",
    "df_fe.head()"
   ]
  },
  {
   "cell_type": "code",
   "execution_count": 19,
   "id": "3f248450",
   "metadata": {
    "scrolled": true
   },
   "outputs": [
    {
     "data": {
      "image/png": "[encoded data removed]",
      "text/plain": [
       "<Figure size 1200x1600 with 5 Axes>"
      ]
     },
     "metadata": {},
     "output_type": "display_data"
    }
   ],
   "source": [
    "plt.figure(figsize=(12, 16))\n",
    "features = ['length', 'num_exclamation_marks', 'num_question_marks', \n",
    "             'num_punctuations', 'num_words']\n",
    "for i in range(len(features)):\n",
    "    plt.subplot(4, 2, i+1)\n",
    "    sns.distplot(df_fe[df_fe.Polarity_Rating=='Positive'][features[i]], label = 'Positive')\n",
    "    sns.distplot(df_fe[df_fe.Polarity_Rating=='Negative'][features[i]], label = 'Negative')\n",
    "    plt.legend()\n",
    "plt.tight_layout()\n",
    "plt.show()"
   ]
  },
  {
   "cell_type": "markdown",
   "id": "9fca5b1c",
   "metadata": {},
   "source": [
    "On ne voit pas de différences notoires dans les distributions de ces variables. Il est tout de même possible que ces features apportent quelque chose au modèle, nous testerons cela plus tard"
   ]
  },
  {
   "cell_type": "code",
   "execution_count": 20,
   "id": "46edffe9",
   "metadata": {},
   "outputs": [
    {
     "name": "stdout",
     "output_type": "stream",
     "text": [
      "(18082, 1) (4521, 1) (18082,) (4521,)\n"
     ]
    }
   ],
   "source": [
    "# Train-Test Splitting\n",
    "X = df.drop(columns=['Polarity_Rating'])\n",
    "y = df['Polarity_Rating']\n",
    "X_train, X_test, y_train, y_test = train_test_split(X, y, test_size=0.2, random_state=42)\n",
    "print(X_train.shape, X_test.shape, y_train.shape, y_test.shape)"
   ]
  },
  {
   "cell_type": "code",
   "execution_count": 21,
   "id": "a30beb67",
   "metadata": {},
   "outputs": [],
   "source": [
    "# Function to tokenize and clean the text\n",
    "def tokenize_and_clean(text):\n",
    "    # Changing case of the text to lower case\n",
    "    lowered = text.lower()\n",
    "    \n",
    "    # Tokenization\n",
    "    tokens = word_tokenize(lowered)\n",
    "    # r'\\w{1,}' Permet de filtrer la ponctuation et les charactères spéciaux\n",
    "    filtered_tokens = [token for token in tokens if re.match(r'\\w{1,}' , token)]\n",
    "    \n",
    "    # Stemming\n",
    "    stemmer = PorterStemmer()\n",
    "    stems = [stemmer.stem(token) for token in filtered_tokens]\n",
    "    return stems"
   ]
  },
  {
   "cell_type": "code",
   "execution_count": 22,
   "id": "7f5bb64c",
   "metadata": {},
   "outputs": [
    {
     "name": "stdout",
     "output_type": "stream",
     "text": [
      "(18082, 12361) (4521, 12361)\n"
     ]
    }
   ],
   "source": [
    "# TF-IDF Vectorization\n",
    "tfidf_vectorizer = TfidfVectorizer(tokenizer=tokenize_and_clean, stop_words='english')\n",
    "X_train_reviews_tfidf = tfidf_vectorizer.fit_transform(X_train['Review Text'])\n",
    "X_test_reviews_tfidf = tfidf_vectorizer.transform(X_test['Review Text'])\n",
    "print(X_train_reviews_tfidf.shape, X_test_reviews_tfidf.shape)"
   ]
  },
  {
   "cell_type": "code",
   "execution_count": 23,
   "id": "ba22f873",
   "metadata": {},
   "outputs": [
    {
     "data": {
      "image/png": "[encoded data removed]",
      "text/plain": [
       "<Figure size 640x480 with 1 Axes>"
      ]
     },
     "metadata": {},
     "output_type": "display_data"
    }
   ],
   "source": [
    "# Class Imbalance Check\n",
    "plt.pie(y_train.value_counts(), \n",
    "        labels=['Positive Reviews', 'Negative Reviews'], \n",
    "        autopct='%0.1f%%')\n",
    "plt.axis('equal')\n",
    "plt.show()"
   ]
  },
  {
   "cell_type": "code",
   "execution_count": 24,
   "id": "298e3cdf",
   "metadata": {},
   "outputs": [
    {
     "name": "stdout",
     "output_type": "stream",
     "text": [
      "(32400, 12361) (32400,)\n"
     ]
    },
    {
     "data": {
      "image/png": "[encoded data removed]",
      "text/plain": [
       "<Figure size 640x480 with 1 Axes>"
      ]
     },
     "metadata": {},
     "output_type": "display_data"
    }
   ],
   "source": [
    "# SMOTE to deal with the class imbalance\n",
    "smote = SMOTE()\n",
    "X_train_smote, y_train_smote = smote.fit_resample(X_train_reviews_tfidf, y_train.values)\n",
    "print(X_train_smote.shape, y_train_smote.shape)\n",
    "\n",
    "\n",
    "# Class Imbalance Check\n",
    "plt.pie(pd.value_counts(y_train_smote), \n",
    "        labels=['Positive Reviews', 'Negative Reviews'], \n",
    "        autopct='%0.1f%%')\n",
    "plt.axis('equal')\n",
    "plt.show()"
   ]
  },
  {
   "cell_type": "code",
   "execution_count": 25,
   "id": "99b6caca",
   "metadata": {},
   "outputs": [],
   "source": [
    "# Functions to print scores\n",
    "def training_scores(y_act, y_pred):\n",
    "    acc = round(accuracy_score(y_act, y_pred), 3)\n",
    "    f1 = round(f1_score(y_act, y_pred), 3)\n",
    "    print(f'Training Scores: Accuracy={acc}, F1-Score={f1}')\n",
    "    \n",
    "def validation_scores(y_act, y_pred):\n",
    "    acc = round(accuracy_score(y_act, y_pred), 3)\n",
    "    f1 = round(f1_score(y_act, y_pred), 3)\n",
    "    print(f'Validation Scores: Accuracy={acc}, F1-Score={f1}')"
   ]
  },
  {
   "cell_type": "code",
   "execution_count": 26,
   "id": "62fe358b",
   "metadata": {
    "scrolled": true
   },
   "outputs": [
    {
     "name": "stdout",
     "output_type": "stream",
     "text": [
      "              precision    recall  f1-score   support\n",
      "\n",
      "    Negative       0.43      0.73      0.54       473\n",
      "    Positive       0.97      0.89      0.92      4048\n",
      "\n",
      "    accuracy                           0.87      4521\n",
      "   macro avg       0.70      0.81      0.73      4521\n",
      "weighted avg       0.91      0.87      0.88      4521\n",
      "\n"
     ]
    }
   ],
   "source": [
    "# Logistic Regression\n",
    "lr = LogisticRegression()\n",
    "lr.fit(X_train_smote, y_train_smote)\n",
    "y_train_pred = lr.predict(X_train_smote)\n",
    "y_test_pred = lr.predict(X_test_reviews_tfidf)\n",
    "print(classification_report(y_test, y_test_pred))"
   ]
  },
  {
   "cell_type": "code",
   "execution_count": 27,
   "id": "0afc3544",
   "metadata": {},
   "outputs": [
    {
     "data": {
      "text/plain": [
       "(4521,)"
      ]
     },
     "execution_count": 27,
     "metadata": {},
     "output_type": "execute_result"
    }
   ],
   "source": [
    "y_test.shape"
   ]
  },
  {
   "cell_type": "code",
   "execution_count": 28,
   "id": "bf51f8c6",
   "metadata": {},
   "outputs": [
    {
     "data": {
      "text/plain": [
       "(4521,)"
      ]
     },
     "execution_count": 28,
     "metadata": {},
     "output_type": "execute_result"
    }
   ],
   "source": [
    "y_test_pred.shape"
   ]
  },
  {
   "cell_type": "code",
   "execution_count": 29,
   "id": "e0225205",
   "metadata": {},
   "outputs": [
    {
     "data": {
      "text/plain": [
       "(32400,)"
      ]
     },
     "execution_count": 29,
     "metadata": {},
     "output_type": "execute_result"
    }
   ],
   "source": [
    "y_train_pred.shape"
   ]
  },
  {
   "cell_type": "code",
   "execution_count": 30,
   "id": "f25decf6",
   "metadata": {
    "scrolled": true
   },
   "outputs": [
    {
     "data": {
      "text/plain": [
       "(18082,)"
      ]
     },
     "execution_count": 30,
     "metadata": {},
     "output_type": "execute_result"
    }
   ],
   "source": [
    "y_train.shape"
   ]
  },
  {
   "cell_type": "code",
   "execution_count": 33,
   "id": "7f1da2cf",
   "metadata": {},
   "outputs": [
    {
     "data": {
      "text/plain": [
       "(32400,)"
      ]
     },
     "execution_count": 33,
     "metadata": {},
     "output_type": "execute_result"
    }
   ],
   "source": [
    "y_train_smote.shape"
   ]
  },
  {
   "cell_type": "code",
   "execution_count": 34,
   "id": "e2f4a318",
   "metadata": {},
   "outputs": [
    {
     "data": {
      "text/plain": [
       "(32400, 12361)"
      ]
     },
     "execution_count": 34,
     "metadata": {},
     "output_type": "execute_result"
    }
   ],
   "source": [
    "X_train_smote.shape"
   ]
  },
  {
   "cell_type": "code",
   "execution_count": 35,
   "id": "8539d67f",
   "metadata": {},
   "outputs": [
    {
     "name": "stdout",
     "output_type": "stream",
     "text": [
      "              precision    recall  f1-score   support\n",
      "\n",
      "    Negative       0.43      0.73      0.54       473\n",
      "    Positive       0.97      0.89      0.92      4048\n",
      "\n",
      "    accuracy                           0.87      4521\n",
      "   macro avg       0.70      0.81      0.73      4521\n",
      "weighted avg       0.91      0.87      0.88      4521\n",
      "\n"
     ]
    }
   ],
   "source": [
    "# Logistic Regression\n",
    "lr = LogisticRegression()\n",
    "lr.fit(X_train_smote, y_train_smote)\n",
    "y_pred = lr.predict(X_test_reviews_tfidf)\n",
    "print(classification_report(y_test, y_pred))"
   ]
  },
  {
   "cell_type": "code",
   "execution_count": 36,
   "id": "110d1d14",
   "metadata": {},
   "outputs": [
    {
     "name": "stdout",
     "output_type": "stream",
     "text": [
      "              precision    recall  f1-score   support\n",
      "\n",
      "    Negative       0.37      0.78      0.51       473\n",
      "    Positive       0.97      0.85      0.90      4048\n",
      "\n",
      "    accuracy                           0.84      4521\n",
      "   macro avg       0.67      0.82      0.70      4521\n",
      "weighted avg       0.91      0.84      0.86      4521\n",
      "\n"
     ]
    }
   ],
   "source": [
    "# Naive Bayes Classifier\n",
    "mnb = MultinomialNB()\n",
    "mnb.fit(X_train_smote, y_train_smote)\n",
    "y_pred = mnb.predict(X_test_reviews_tfidf)\n",
    "print(classification_report(y_test, y_pred))"
   ]
  },
  {
   "cell_type": "code",
   "execution_count": 37,
   "id": "3b3b867e",
   "metadata": {
    "scrolled": false
   },
   "outputs": [
    {
     "name": "stdout",
     "output_type": "stream",
     "text": [
      "              precision    recall  f1-score   support\n",
      "\n",
      "    Negative       0.64      0.25      0.36       473\n",
      "    Positive       0.92      0.98      0.95      4048\n",
      "\n",
      "    accuracy                           0.91      4521\n",
      "   macro avg       0.78      0.62      0.65      4521\n",
      "weighted avg       0.89      0.91      0.89      4521\n",
      "\n"
     ]
    }
   ],
   "source": [
    "# Random Forest Classifier\n",
    "rf = RandomForestClassifier()\n",
    "rf.fit(X_train_smote, y_train_smote)\n",
    "y_pred = rf.predict(X_test_reviews_tfidf)\n",
    "print(classification_report(y_test, y_pred))"
   ]
  },
  {
   "cell_type": "code",
   "execution_count": 38,
   "id": "fd8f64c4",
   "metadata": {},
   "outputs": [],
   "source": [
    "from sklearn.preprocessing import LabelEncoder\n",
    "le = LabelEncoder()\n",
    "y_train_encoded = le.fit_transform(y_train_smote)\n",
    "y_test_encoded = le.fit_transform(y_test)"
   ]
  },
  {
   "cell_type": "code",
   "execution_count": 39,
   "id": "87cc094e",
   "metadata": {},
   "outputs": [
    {
     "name": "stdout",
     "output_type": "stream",
     "text": [
      "              precision    recall  f1-score   support\n",
      "\n",
      "           0       0.56      0.37      0.44       473\n",
      "           1       0.93      0.97      0.95      4048\n",
      "\n",
      "    accuracy                           0.90      4521\n",
      "   macro avg       0.75      0.67      0.70      4521\n",
      "weighted avg       0.89      0.90      0.89      4521\n",
      "\n"
     ]
    }
   ],
   "source": [
    "# Extreme Gradient Boosting Classifier\n",
    "xgb = XGBClassifier(objective='binary:logistic', eval_metric='logloss')\n",
    "xgb.fit(X_train_smote, y_train_encoded)\n",
    "y_pred = xgb.predict(X_test_reviews_tfidf)\n",
    "print(classification_report(y_test_encoded, y_pred))"
   ]
  },
  {
   "cell_type": "code",
   "execution_count": null,
   "id": "10546419",
   "metadata": {},
   "outputs": [],
   "source": []
  },
  {
   "cell_type": "code",
   "execution_count": null,
   "id": "824e064e",
   "metadata": {},
   "outputs": [],
   "source": []
  },
  {
   "cell_type": "code",
   "execution_count": 40,
   "id": "acc6bd8a",
   "metadata": {},
   "outputs": [],
   "source": [
    "#tests"
   ]
  },
  {
   "cell_type": "code",
   "execution_count": 54,
   "id": "b7f1c2a7",
   "metadata": {},
   "outputs": [],
   "source": [
    "df_test=df"
   ]
  },
  {
   "cell_type": "code",
   "execution_count": 41,
   "id": "6f00851b",
   "metadata": {},
   "outputs": [],
   "source": [
    "df_Positive = df[df['Polarity_Rating'] == 'Positive'][0:8000]\n",
    "df_Negative = df[df['Polarity_Rating'] == 'Negative']"
   ]
  },
  {
   "cell_type": "code",
   "execution_count": 42,
   "id": "4336b4f0",
   "metadata": {},
   "outputs": [],
   "source": [
    "df_Negative_over = df_Negative.sample(8000, replace=True)"
   ]
  },
  {
   "cell_type": "code",
   "execution_count": 43,
   "id": "3b04710e",
   "metadata": {},
   "outputs": [],
   "source": [
    "df_over = pd.concat([df_Positive, df_Negative_over], axis=0)"
   ]
  },
  {
   "cell_type": "code",
   "execution_count": 44,
   "id": "62b07e25",
   "metadata": {},
   "outputs": [
    {
     "name": "stdout",
     "output_type": "stream",
     "text": [
      "(12800, 1) (3200, 1) (12800,) (3200,)\n"
     ]
    }
   ],
   "source": [
    "# Train-Test Splitting\n",
    "X = df_over.drop(columns=['Polarity_Rating'])\n",
    "y = df_over['Polarity_Rating']\n",
    "X_train, X_test, y_train, y_test = train_test_split(X, y, test_size=0.2, random_state=42)\n",
    "print(X_train.shape, X_test.shape, y_train.shape, y_test.shape)"
   ]
  },
  {
   "cell_type": "code",
   "execution_count": 45,
   "id": "f3790087",
   "metadata": {},
   "outputs": [
    {
     "name": "stdout",
     "output_type": "stream",
     "text": [
      "(12800, 8365) (3200, 8365)\n"
     ]
    }
   ],
   "source": [
    "# TF-IDF Vectorization\n",
    "tfidf_vectorizer = TfidfVectorizer(tokenizer=tokenize_and_clean, stop_words='english')\n",
    "X_train_reviews_tfidf = tfidf_vectorizer.fit_transform(X_train['Review Text'])\n",
    "X_test_reviews_tfidf = tfidf_vectorizer.transform(X_test['Review Text'])\n",
    "print(X_train_reviews_tfidf.shape, X_test_reviews_tfidf.shape)"
   ]
  },
  {
   "cell_type": "code",
   "execution_count": 46,
   "id": "e34d9323",
   "metadata": {},
   "outputs": [
    {
     "data": {
      "image/png": "[encoded data removed]",
      "text/plain": [
       "<Figure size 640x480 with 1 Axes>"
      ]
     },
     "metadata": {},
     "output_type": "display_data"
    }
   ],
   "source": [
    "# Class Imbalance Check\n",
    "plt.pie(y_train.value_counts(), \n",
    "        labels=['Positive Reviews', 'Negative Reviews'], \n",
    "        autopct='%0.1f%%')\n",
    "plt.axis('equal')\n",
    "plt.show()"
   ]
  },
  {
   "cell_type": "code",
   "execution_count": 47,
   "id": "5a62a57c",
   "metadata": {
    "scrolled": true
   },
   "outputs": [
    {
     "name": "stdout",
     "output_type": "stream",
     "text": [
      "              precision    recall  f1-score   support\n",
      "\n",
      "    Negative       0.86      0.91      0.88      1596\n",
      "    Positive       0.90      0.85      0.88      1604\n",
      "\n",
      "    accuracy                           0.88      3200\n",
      "   macro avg       0.88      0.88      0.88      3200\n",
      "weighted avg       0.88      0.88      0.88      3200\n",
      "\n"
     ]
    }
   ],
   "source": [
    "# Logistic Regression\n",
    "lr = LogisticRegression()\n",
    "lr.fit(X_train_reviews_tfidf, y_train)\n",
    "y_pred = lr.predict(X_test_reviews_tfidf)\n",
    "print(classification_report(y_test, y_pred))"
   ]
  },
  {
   "cell_type": "code",
   "execution_count": 48,
   "id": "b1e1e0b0",
   "metadata": {},
   "outputs": [
    {
     "data": {
      "text/plain": [
       "(12800,)"
      ]
     },
     "execution_count": 48,
     "metadata": {},
     "output_type": "execute_result"
    }
   ],
   "source": [
    "y_train.shape"
   ]
  },
  {
   "cell_type": "code",
   "execution_count": 49,
   "id": "168045b3",
   "metadata": {},
   "outputs": [
    {
     "name": "stdout",
     "output_type": "stream",
     "text": [
      "(18082, 1) (4521, 1) (18082,) (4521,)\n"
     ]
    }
   ],
   "source": [
    "# Train-Test Splitting\n",
    "X = df.drop(columns=['Polarity_Rating'])\n",
    "y = df['Polarity_Rating']\n",
    "X_train, X_test, y_train, y_test = train_test_split(X, y, test_size=0.2, random_state=42)\n",
    "print(X_train.shape, X_test.shape, y_train.shape, y_test.shape)"
   ]
  },
  {
   "cell_type": "code",
   "execution_count": 50,
   "id": "4145cb0d",
   "metadata": {},
   "outputs": [
    {
     "name": "stdout",
     "output_type": "stream",
     "text": [
      "(18082, 12361) (4521, 12361)\n"
     ]
    }
   ],
   "source": [
    "# TF-IDF Vectorization\n",
    "tfidf_vectorizer = TfidfVectorizer(tokenizer=tokenize_and_clean, stop_words='english')\n",
    "X_train_reviews_tfidf = tfidf_vectorizer.fit_transform(X_train['Review Text'])\n",
    "X_test_reviews_tfidf = tfidf_vectorizer.transform(X_test['Review Text'])\n",
    "print(X_train_reviews_tfidf.shape, X_test_reviews_tfidf.shape)"
   ]
  },
  {
   "cell_type": "code",
   "execution_count": null,
   "id": "e43f55e3",
   "metadata": {},
   "outputs": [],
   "source": [
    "y_pred = lr.predict(X_test_reviews_tfidf)\n",
    "print(classification_report(y_test, y_pred))"
   ]
  },
  {
   "cell_type": "code",
   "execution_count": null,
   "id": "22d3417f",
   "metadata": {},
   "outputs": [],
   "source": [
    "X_test_reviews_tfidf.shape"
   ]
  },
  {
   "cell_type": "code",
   "execution_count": null,
   "id": "e65fcfd4",
   "metadata": {},
   "outputs": [],
   "source": []
  }
 ],
 "metadata": {
  "kernelspec": {
   "display_name": "Python 3 (ipykernel)",
   "language": "python",
   "name": "python3"
  },
  "language_info": {
   "codemirror_mode": {
    "name": "ipython",
    "version": 3
   },
   "file_extension": ".py",
   "mimetype": "text/x-python",
   "name": "python",
   "nbconvert_exporter": "python",
   "pygments_lexer": "ipython3",
   "version": "3.8.12"
  },
  "toc": {
   "base_numbering": 1,
   "nav_menu": {},
   "number_sections": true,
   "sideBar": true,
   "skip_h1_title": false,
   "title_cell": "Table of Contents",
   "title_sidebar": "Contents",
   "toc_cell": false,
   "toc_position": {},
   "toc_section_display": true,
   "toc_window_display": false
  }
 },
 "nbformat": 4,
 "nbformat_minor": 5
}
